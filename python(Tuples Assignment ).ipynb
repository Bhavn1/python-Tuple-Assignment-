{
 "cells": [
  {
   "cell_type": "markdown",
   "id": "5631de24",
   "metadata": {},
   "source": [
    "# 1.find the elements frequency in tuple"
   ]
  },
  {
   "cell_type": "code",
   "execution_count": 6,
   "id": "a20c8712",
   "metadata": {},
   "outputs": [
    {
     "data": {
      "text/plain": [
       "{4: 2, 5: 3, 6: 2}"
      ]
     },
     "execution_count": 6,
     "metadata": {},
     "output_type": "execute_result"
    }
   ],
   "source": [
    "t=(4,5,4,5,6,6,5)\n",
    "s={}\n",
    "for i in t:\n",
    "    s[i]=t.count(i)\n",
    "s"
   ]
  },
  {
   "cell_type": "markdown",
   "id": "15e7b870",
   "metadata": {},
   "source": [
    "# 2.python program to sort a list of tuples alphabetically"
   ]
  },
  {
   "cell_type": "code",
   "execution_count": 8,
   "id": "8aedc60f",
   "metadata": {},
   "outputs": [
    {
     "data": {
      "text/plain": [
       "[('aa', 30), ('aaaa', 28), ('bab', 29), ('bb', 21), ('csa', 'c')]"
      ]
     },
     "execution_count": 8,
     "metadata": {},
     "output_type": "execute_result"
    }
   ],
   "source": [
    "t1=[(\"aaaa\",28),(\"aa\",30),(\"bb\",21),(\"bab\",29),(\"csa\",\"c\")]\n",
    "t1.sort()\n",
    "t1"
   ]
  },
  {
   "cell_type": "markdown",
   "id": "d052cc43",
   "metadata": {},
   "source": [
    "# 3.write a python program to calculate the average value of the numbers in a given tuple of tuples"
   ]
  },
  {
   "cell_type": "code",
   "execution_count": 9,
   "id": "f6bb063f",
   "metadata": {},
   "outputs": [
    {
     "data": {
      "text/plain": [
       "[25.5, -18.0, 3.75]"
      ]
     },
     "execution_count": 9,
     "metadata": {},
     "output_type": "execute_result"
    }
   ],
   "source": [
    "def average_tuple(nums):\n",
    "    result = [sum(x)/len(x) for x in zip(*nums)]\n",
    "    return result\n",
    "\n",
    "nums=((1,1,-5),(30,-15,56),(81,-60,-39),(-10,2,3))\n",
    "average_tuple(nums)"
   ]
  },
  {
   "cell_type": "code",
   "execution_count": null,
   "id": "ec724f13",
   "metadata": {},
   "outputs": [],
   "source": []
  }
 ],
 "metadata": {
  "kernelspec": {
   "display_name": "Python 3 (ipykernel)",
   "language": "python",
   "name": "python3"
  },
  "language_info": {
   "codemirror_mode": {
    "name": "ipython",
    "version": 3
   },
   "file_extension": ".py",
   "mimetype": "text/x-python",
   "name": "python",
   "nbconvert_exporter": "python",
   "pygments_lexer": "ipython3",
   "version": "3.9.13"
  }
 },
 "nbformat": 4,
 "nbformat_minor": 5
}
